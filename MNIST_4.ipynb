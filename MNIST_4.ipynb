{
  "nbformat": 4,
  "nbformat_minor": 0,
  "metadata": {
    "colab": {
      "name": "MNIST_P.ipynb",
      "version": "0.3.2",
      "provenance": [],
      "collapsed_sections": []
    },
    "kernelspec": {
      "name": "python3",
      "display_name": "Python 3"
    },
    "accelerator": "GPU"
  },
  "cells": [
    {
      "metadata": {
        "id": "uk2r6ClzUG47",
        "colab_type": "code",
        "colab": {
          "base_uri": "https://localhost:8080/",
          "height": 340
        },
        "outputId": "655c4c93-4de5-4fe0-b142-4141784a567c"
      },
      "cell_type": "code",
      "source": [
        "\n",
        "from __future__ import print_function\n",
        "import numpy as np\n",
        "from keras.datasets import mnist\n",
        "from keras.models import Sequential\n",
        "from keras.layers.core import Dense\n",
        "from keras.layers.core import Activation\n",
        "from keras.optimizers import SGD\n",
        "from keras.utils import np_utils\n",
        "from sklearn.utils.multiclass import unique_labels\n",
        "import matplotlib.pyplot as plt\n",
        "# =============================================================================\n",
        "# \n",
        "# =============================================================================\n",
        "\n",
        "\n",
        "np.random.seed(0)\n",
        "N_EPOCH = 50\n",
        "BATCH_SIZE = 128\n",
        "VERBOSE = 1\n",
        "N_CLASS = 10\n",
        "OPTIMIZER = SGD()\n",
        "N_HIDDEN_1 = 128\n",
        "N_HIDDEN_2 = 512\n",
        "N_HIDDEN_3 = 256\n",
        "N_HIDDEN_4 = 128\n",
        "N_HIDDEN_5 = 1024\n",
        "VALIDATION_SPLIT = 0.2\n",
        "\n",
        "\n",
        "(X_train, y_train), (X_test, y_test) = mnist.load_data()\n",
        "\n",
        "# =============================================================================\n",
        "# \n",
        "# =============================================================================\n",
        "\n",
        "RESHAPE = 784\n",
        "\n",
        "\n",
        "N_TRAIN_DATA = X_train.shape[0]\n",
        "N_TEST_DATA = X_test.shape[0]\n",
        "\n",
        "X_train = X_train.reshape(N_TRAIN_DATA, RESHAPE)\n",
        "X_test = X_test.reshape(N_TEST_DATA, RESHAPE)\n",
        "\n",
        "X_train = X_train.astype('float32')\n",
        "X_test = X_test.astype('float32')\n",
        "\n",
        "\n",
        "X_train /= 225\n",
        "X_test /= 225\n",
        "\n",
        "y_train = np_utils.to_categorical(y_train, N_CLASS)\n",
        "y_test = np_utils.to_categorical(y_test, N_CLASS)\n",
        "\n",
        "# =============================================================================\n",
        "# \n",
        "# =============================================================================\n",
        "model = Sequential()\n",
        "\n",
        "model.add(Dense(units = N_HIDDEN_1, \n",
        "                activation='relu', \n",
        "                kernel_initializer='glorot_uniform', \n",
        "                input_dim=RESHAPE))\n",
        "\n",
        "model.add(Dense(units = N_HIDDEN_2, \n",
        "                activation='relu', \n",
        "                kernel_initializer='glorot_uniform', \n",
        "                ))\n",
        "\n",
        "model.add(Dense(units = N_HIDDEN_3, \n",
        "                activation='relu', \n",
        "                kernel_initializer='glorot_uniform', \n",
        "                ))\n",
        "\n",
        "model.add(Dense(units = N_HIDDEN_4, \n",
        "                activation='relu', \n",
        "                kernel_initializer='glorot_uniform', \n",
        "                ))\n",
        "\n",
        "model.add(Dense(units = N_HIDDEN_5, \n",
        "                activation='relu', \n",
        "                kernel_initializer='glorot_uniform', \n",
        "                ))\n",
        "\n",
        "model.add(Dense(units = N_CLASS, \n",
        "                activation='softmax', \n",
        "                kernel_initializer='glorot_uniform', \n",
        "                ))\n",
        "\n",
        "model.summary()\n",
        "\n",
        "model.compile(loss = 'categorical_crossentropy', \n",
        "              optimizer=OPTIMIZER,\n",
        "              metrics=['accuracy'])\n"
      ],
      "execution_count": 2,
      "outputs": [
        {
          "output_type": "stream",
          "text": [
            "_________________________________________________________________\n",
            "Layer (type)                 Output Shape              Param #   \n",
            "=================================================================\n",
            "dense_7 (Dense)              (None, 128)               100480    \n",
            "_________________________________________________________________\n",
            "dense_8 (Dense)              (None, 512)               66048     \n",
            "_________________________________________________________________\n",
            "dense_9 (Dense)              (None, 256)               131328    \n",
            "_________________________________________________________________\n",
            "dense_10 (Dense)             (None, 128)               32896     \n",
            "_________________________________________________________________\n",
            "dense_11 (Dense)             (None, 1024)              132096    \n",
            "_________________________________________________________________\n",
            "dense_12 (Dense)             (None, 10)                10250     \n",
            "=================================================================\n",
            "Total params: 473,098\n",
            "Trainable params: 473,098\n",
            "Non-trainable params: 0\n",
            "_________________________________________________________________\n"
          ],
          "name": "stdout"
        }
      ]
    },
    {
      "metadata": {
        "id": "fDXd5wuNUail",
        "colab_type": "code",
        "colab": {
          "base_uri": "https://localhost:8080/",
          "height": 1805
        },
        "outputId": "98111f78-5702-49df-80a2-7dfa53841352"
      },
      "cell_type": "code",
      "source": [
        "history = model.fit(X_train, y_train, batch_size = BATCH_SIZE, \n",
        "                    epochs = N_EPOCH, verbose = VERBOSE, \n",
        "                    validation_split=VALIDATION_SPLIT)"
      ],
      "execution_count": 3,
      "outputs": [
        {
          "output_type": "stream",
          "text": [
            "WARNING:tensorflow:From /usr/local/lib/python3.6/dist-packages/tensorflow/python/ops/math_ops.py:3066: to_int32 (from tensorflow.python.ops.math_ops) is deprecated and will be removed in a future version.\n",
            "Instructions for updating:\n",
            "Use tf.cast instead.\n",
            "Train on 48000 samples, validate on 12000 samples\n",
            "Epoch 1/50\n",
            "48000/48000 [==============================] - 5s 100us/step - loss: 2.1097 - acc: 0.3776 - val_loss: 1.4763 - val_acc: 0.6679\n",
            "Epoch 2/50\n",
            "48000/48000 [==============================] - 2s 48us/step - loss: 0.7946 - acc: 0.7838 - val_loss: 0.4684 - val_acc: 0.8703\n",
            "Epoch 3/50\n",
            "48000/48000 [==============================] - 2s 49us/step - loss: 0.4286 - acc: 0.8758 - val_loss: 0.3425 - val_acc: 0.9033\n",
            "Epoch 4/50\n",
            "48000/48000 [==============================] - 2s 48us/step - loss: 0.3473 - acc: 0.8978 - val_loss: 0.3052 - val_acc: 0.9130\n",
            "Epoch 5/50\n",
            "48000/48000 [==============================] - 2s 49us/step - loss: 0.3051 - acc: 0.9103 - val_loss: 0.2749 - val_acc: 0.9197\n",
            "Epoch 6/50\n",
            "48000/48000 [==============================] - 2s 49us/step - loss: 0.2751 - acc: 0.9185 - val_loss: 0.2490 - val_acc: 0.9280\n",
            "Epoch 7/50\n",
            "48000/48000 [==============================] - 2s 49us/step - loss: 0.2503 - acc: 0.9265 - val_loss: 0.2289 - val_acc: 0.9321\n",
            "Epoch 8/50\n",
            "48000/48000 [==============================] - 2s 49us/step - loss: 0.2294 - acc: 0.9321 - val_loss: 0.2148 - val_acc: 0.9373\n",
            "Epoch 9/50\n",
            "48000/48000 [==============================] - 2s 49us/step - loss: 0.2122 - acc: 0.9378 - val_loss: 0.2001 - val_acc: 0.9418\n",
            "Epoch 10/50\n",
            "48000/48000 [==============================] - 2s 49us/step - loss: 0.1972 - acc: 0.9421 - val_loss: 0.1970 - val_acc: 0.9427\n",
            "Epoch 11/50\n",
            "48000/48000 [==============================] - 2s 49us/step - loss: 0.1831 - acc: 0.9465 - val_loss: 0.1794 - val_acc: 0.9484\n",
            "Epoch 12/50\n",
            "48000/48000 [==============================] - 2s 49us/step - loss: 0.1723 - acc: 0.9494 - val_loss: 0.1743 - val_acc: 0.9502\n",
            "Epoch 13/50\n",
            "48000/48000 [==============================] - 2s 49us/step - loss: 0.1621 - acc: 0.9532 - val_loss: 0.1623 - val_acc: 0.9529\n",
            "Epoch 14/50\n",
            "48000/48000 [==============================] - 2s 49us/step - loss: 0.1518 - acc: 0.9554 - val_loss: 0.1582 - val_acc: 0.9542\n",
            "Epoch 15/50\n",
            "48000/48000 [==============================] - 2s 49us/step - loss: 0.1442 - acc: 0.9578 - val_loss: 0.1528 - val_acc: 0.9558\n",
            "Epoch 16/50\n",
            "48000/48000 [==============================] - 2s 49us/step - loss: 0.1366 - acc: 0.9601 - val_loss: 0.1527 - val_acc: 0.9545\n",
            "Epoch 17/50\n",
            "48000/48000 [==============================] - 2s 49us/step - loss: 0.1286 - acc: 0.9626 - val_loss: 0.1407 - val_acc: 0.9586\n",
            "Epoch 18/50\n",
            "48000/48000 [==============================] - 2s 49us/step - loss: 0.1227 - acc: 0.9640 - val_loss: 0.1371 - val_acc: 0.9592\n",
            "Epoch 19/50\n",
            "48000/48000 [==============================] - 2s 49us/step - loss: 0.1168 - acc: 0.9654 - val_loss: 0.1352 - val_acc: 0.9602\n",
            "Epoch 20/50\n",
            "48000/48000 [==============================] - 2s 49us/step - loss: 0.1114 - acc: 0.9676 - val_loss: 0.1295 - val_acc: 0.9625\n",
            "Epoch 21/50\n",
            "48000/48000 [==============================] - 2s 49us/step - loss: 0.1057 - acc: 0.9688 - val_loss: 0.1274 - val_acc: 0.9623\n",
            "Epoch 22/50\n",
            "48000/48000 [==============================] - 2s 51us/step - loss: 0.1012 - acc: 0.9696 - val_loss: 0.1287 - val_acc: 0.9627\n",
            "Epoch 23/50\n",
            "48000/48000 [==============================] - 2s 51us/step - loss: 0.0966 - acc: 0.9711 - val_loss: 0.1262 - val_acc: 0.9625\n",
            "Epoch 24/50\n",
            "48000/48000 [==============================] - 2s 49us/step - loss: 0.0924 - acc: 0.9729 - val_loss: 0.1201 - val_acc: 0.9647\n",
            "Epoch 25/50\n",
            "48000/48000 [==============================] - 2s 49us/step - loss: 0.0886 - acc: 0.9737 - val_loss: 0.1180 - val_acc: 0.9656\n",
            "Epoch 26/50\n",
            "48000/48000 [==============================] - 2s 49us/step - loss: 0.0849 - acc: 0.9747 - val_loss: 0.1225 - val_acc: 0.9647\n",
            "Epoch 27/50\n",
            "48000/48000 [==============================] - 2s 49us/step - loss: 0.0807 - acc: 0.9769 - val_loss: 0.1188 - val_acc: 0.9643\n",
            "Epoch 28/50\n",
            "48000/48000 [==============================] - 2s 49us/step - loss: 0.0779 - acc: 0.9771 - val_loss: 0.1160 - val_acc: 0.9664\n",
            "Epoch 29/50\n",
            "48000/48000 [==============================] - 2s 49us/step - loss: 0.0744 - acc: 0.9783 - val_loss: 0.1166 - val_acc: 0.9655\n",
            "Epoch 30/50\n",
            "48000/48000 [==============================] - 2s 49us/step - loss: 0.0718 - acc: 0.9793 - val_loss: 0.1114 - val_acc: 0.9667\n",
            "Epoch 31/50\n",
            "48000/48000 [==============================] - 2s 49us/step - loss: 0.0682 - acc: 0.9803 - val_loss: 0.1078 - val_acc: 0.9674\n",
            "Epoch 32/50\n",
            "48000/48000 [==============================] - 2s 49us/step - loss: 0.0659 - acc: 0.9811 - val_loss: 0.1071 - val_acc: 0.9673\n",
            "Epoch 33/50\n",
            "48000/48000 [==============================] - 2s 48us/step - loss: 0.0629 - acc: 0.9816 - val_loss: 0.1121 - val_acc: 0.9675\n",
            "Epoch 34/50\n",
            "48000/48000 [==============================] - 2s 48us/step - loss: 0.0609 - acc: 0.9825 - val_loss: 0.1067 - val_acc: 0.9679\n",
            "Epoch 35/50\n",
            "48000/48000 [==============================] - 2s 49us/step - loss: 0.0580 - acc: 0.9837 - val_loss: 0.1107 - val_acc: 0.9674\n",
            "Epoch 36/50\n",
            "48000/48000 [==============================] - 2s 49us/step - loss: 0.0562 - acc: 0.9843 - val_loss: 0.1096 - val_acc: 0.9685\n",
            "Epoch 37/50\n",
            "48000/48000 [==============================] - 3s 54us/step - loss: 0.0537 - acc: 0.9848 - val_loss: 0.1047 - val_acc: 0.9683\n",
            "Epoch 38/50\n",
            "48000/48000 [==============================] - 2s 49us/step - loss: 0.0512 - acc: 0.9858 - val_loss: 0.1054 - val_acc: 0.9680\n",
            "Epoch 39/50\n",
            "48000/48000 [==============================] - 2s 48us/step - loss: 0.0496 - acc: 0.9863 - val_loss: 0.1040 - val_acc: 0.9689\n",
            "Epoch 40/50\n",
            "48000/48000 [==============================] - 2s 49us/step - loss: 0.0472 - acc: 0.9871 - val_loss: 0.1028 - val_acc: 0.9697\n",
            "Epoch 41/50\n",
            "48000/48000 [==============================] - 2s 49us/step - loss: 0.0456 - acc: 0.9869 - val_loss: 0.1001 - val_acc: 0.9708\n",
            "Epoch 42/50\n",
            "48000/48000 [==============================] - 2s 49us/step - loss: 0.0435 - acc: 0.9882 - val_loss: 0.1004 - val_acc: 0.9708\n",
            "Epoch 43/50\n",
            "48000/48000 [==============================] - 2s 48us/step - loss: 0.0419 - acc: 0.9889 - val_loss: 0.1022 - val_acc: 0.9706\n",
            "Epoch 44/50\n",
            "48000/48000 [==============================] - 2s 49us/step - loss: 0.0400 - acc: 0.9890 - val_loss: 0.0997 - val_acc: 0.9714\n",
            "Epoch 45/50\n",
            "48000/48000 [==============================] - 2s 49us/step - loss: 0.0384 - acc: 0.9894 - val_loss: 0.0990 - val_acc: 0.9708\n",
            "Epoch 46/50\n",
            "48000/48000 [==============================] - 2s 48us/step - loss: 0.0368 - acc: 0.9905 - val_loss: 0.1009 - val_acc: 0.9714\n",
            "Epoch 47/50\n",
            "48000/48000 [==============================] - 2s 49us/step - loss: 0.0354 - acc: 0.9907 - val_loss: 0.1007 - val_acc: 0.9714\n",
            "Epoch 48/50\n",
            "48000/48000 [==============================] - 2s 49us/step - loss: 0.0343 - acc: 0.9910 - val_loss: 0.0987 - val_acc: 0.9723\n",
            "Epoch 49/50\n",
            "48000/48000 [==============================] - 2s 49us/step - loss: 0.0327 - acc: 0.9915 - val_loss: 0.0981 - val_acc: 0.9715\n",
            "Epoch 50/50\n",
            "48000/48000 [==============================] - 2s 48us/step - loss: 0.0309 - acc: 0.9917 - val_loss: 0.1005 - val_acc: 0.9707\n"
          ],
          "name": "stdout"
        }
      ]
    },
    {
      "metadata": {
        "id": "MAOaMTd9YqDJ",
        "colab_type": "code",
        "colab": {}
      },
      "cell_type": "code",
      "source": [
        "model.save('MNIST_4.h5')\n",
        "classifier_file = drive.CreateFile({'title' : 'MNIST_4.h5'})    \n",
        "classifier_file.SetContentFile('MNIST_4.h5')    \n",
        "classifier_file.Upload()\n"
      ],
      "execution_count": 0,
      "outputs": []
    },
    {
      "metadata": {
        "id": "yvMzyLMrZinR",
        "colab_type": "code",
        "colab": {}
      },
      "cell_type": "code",
      "source": [
        "from keras.models import load_model\n",
        "model = load_model('MNIST_3.h5')"
      ],
      "execution_count": 0,
      "outputs": []
    },
    {
      "metadata": {
        "id": "hS6kL7QXVMXN",
        "colab_type": "code",
        "colab": {
          "base_uri": "https://localhost:8080/",
          "height": 752
        },
        "outputId": "0d58f37e-9074-4c44-9573-440c2e2b0b9c"
      },
      "cell_type": "code",
      "source": [
        "import matplotlib.pyplot as plt\n",
        "\n",
        "print(history.history.keys())\n",
        "# summarize history for accuracy\n",
        "plt.plot(history.history['acc'])\n",
        "plt.plot(history.history['val_acc'])\n",
        "plt.title('model accuracy')\n",
        "plt.ylabel('accuracy')\n",
        "plt.xlabel('epoch')\n",
        "plt.legend(['train', 'test'], loc='upper left')\n",
        "plt.show()\n",
        "\n",
        "\n",
        "# summarize history for loss\n",
        "plt.plot(history.history['loss'])\n",
        "plt.plot(history.history['val_loss'])\n",
        "plt.title('model loss')\n",
        "plt.ylabel('loss')\n",
        "plt.xlabel('epoch')\n",
        "plt.legend(['train', 'test'], loc='upper left')\n",
        "plt.show()\n",
        "\n",
        "\n",
        "\n",
        "\n"
      ],
      "execution_count": 12,
      "outputs": [
        {
          "output_type": "stream",
          "text": [
            "dict_keys(['val_loss', 'val_acc', 'loss', 'acc'])\n"
          ],
          "name": "stdout"
        },
        {
          "output_type": "display_data",
          "data": {
            "image/png": "[encoded data removed]",
            "text/plain": [
              "<Figure size 576x396 with 1 Axes>"
            ]
          },
          "metadata": {
            "tags": []
          }
        },
        {
          "output_type": "display_data",
          "data": {
            "image/png": "[encoded data removed]",
            "text/plain": [
              "<Figure size 576x396 with 1 Axes>"
            ]
          },
          "metadata": {
            "tags": []
          }
        }
      ]
    },
    {
      "metadata": {
        "id": "KiC1PDhGZsHB",
        "colab_type": "code",
        "colab": {
          "base_uri": "https://localhost:8080/",
          "height": 68
        },
        "outputId": "101c142f-c9c7-4ae7-a8cb-e7ba365985ca"
      },
      "cell_type": "code",
      "source": [
        "scores = model.evaluate(X_test, y_test, verbose=1)\n",
        "print(\"Test Score: \", scores[0])\n",
        "print(\"Accuracy: \" , scores[1])"
      ],
      "execution_count": 13,
      "outputs": [
        {
          "output_type": "stream",
          "text": [
            "10000/10000 [==============================] - 1s 54us/step\n",
            "Test Score:  0.0930896588870557\n",
            "Accuracy:  0.9743\n"
          ],
          "name": "stdout"
        }
      ]
    },
    {
      "metadata": {
        "id": "GW1EDr-qVZ9D",
        "colab_type": "code",
        "colab": {
          "base_uri": "https://localhost:8080/",
          "height": 187
        },
        "outputId": "be3dd215-a829-42df-d469-1db1514bf14a"
      },
      "cell_type": "code",
      "source": [
        "\n",
        "# Predicting the Test set results\n",
        "y_pred = model.predict(X_test)\n",
        "\n",
        "y_test_argmax = y_test.argmax(axis=1)\n",
        "y_pred_argmax = y_pred.argmax(axis=1)\n",
        "\n",
        "from sklearn.metrics import confusion_matrix\n",
        "cm = confusion_matrix(y_test.argmax(axis=1), y_pred.argmax(axis=1))\n",
        "\n",
        "cm"
      ],
      "execution_count": 21,
      "outputs": [
        {
          "output_type": "execute_result",
          "data": {
            "text/plain": [
              "array([[  0,  39,   0, 141,   0, 142,   0, 658,   0,   0],\n",
              "       [  0,  74,   0,  38,   0, 550,   0, 473,   0,   0],\n",
              "       [  0,  56,   0,  51,   0, 354,   7, 564,   0,   0],\n",
              "       [  0,   6,   0,  50,   0, 290,   1, 663,   0,   0],\n",
              "       [  0,  34,   0,  52,   0, 324,   5, 566,   1,   0],\n",
              "       [  0,  55,   0,  68,   0, 182,  11, 576,   0,   0],\n",
              "       [  0,  86,   0,  30,   0, 334,   4, 504,   0,   0],\n",
              "       [  0,  19,   1,  87,   0, 147,   4, 765,   5,   0],\n",
              "       [  0,  30,   0,  67,   0, 181,   3, 693,   0,   0],\n",
              "       [  0,  13,   0,  39,   0, 188,   4, 763,   2,   0]])"
            ]
          },
          "metadata": {
            "tags": []
          },
          "execution_count": 21
        }
      ]
    },
    {
      "metadata": {
        "id": "JBS0wnBMVl8T",
        "colab_type": "code",
        "colab": {}
      },
      "cell_type": "code",
      "source": [
        "\n",
        "def plot_confusion_matrix(y_true, y_pred, classes,\n",
        "                          normalize=False,\n",
        "                          title=None,\n",
        "                          cmap=plt.cm.Blues):\n",
        "    \"\"\"\n",
        "    This function prints and plots the confusion matrix.\n",
        "    Normalization can be applied by setting `normalize=True`.\n",
        "    \"\"\"\n",
        "    if not title:\n",
        "        if normalize:\n",
        "            title = 'Normalized confusion matrix'\n",
        "        else:\n",
        "            title = 'Confusion matrix, without normalization'\n",
        "\n",
        "    # Compute confusion matrix\n",
        "    cm = confusion_matrix(y_true, y_pred)\n",
        "    # Only use the labels that appear in the data\n",
        "    classes = classes[unique_labels(y_true, y_pred)]\n",
        "    if normalize:\n",
        "        cm = cm.astype('float') / cm.sum(axis=1)[:, np.newaxis]\n",
        "        print(\"Normalized confusion matrix\")\n",
        "    else:\n",
        "        print('Confusion matrix, without normalization')\n",
        "\n",
        "    print(cm)\n",
        "\n",
        "    fig, ax = plt.subplots()\n",
        "    im = ax.imshow(cm, interpolation='nearest', cmap=cmap)\n",
        "    ax.figure.colorbar(im, ax=ax)\n",
        "    # We want to show all ticks...\n",
        "    ax.set(xticks=np.arange(cm.shape[1]),\n",
        "           yticks=np.arange(cm.shape[0]),\n",
        "           # ... and label them with the respective list entries\n",
        "           xticklabels=classes, yticklabels=classes,\n",
        "           title=title,\n",
        "           ylabel='True label',\n",
        "           xlabel='Predicted label')\n",
        "\n",
        "    # Rotate the tick labels and set their alignment.\n",
        "    plt.setp(ax.get_xticklabels(), rotation=45, ha=\"right\",\n",
        "             rotation_mode=\"anchor\")\n",
        "\n",
        "    # Loop over data dimensions and create text annotations.\n",
        "    fmt = '.2f' if normalize else 'd'\n",
        "    thresh = cm.max() / 2.\n",
        "    for i in range(cm.shape[0]):\n",
        "        for j in range(cm.shape[1]):\n",
        "            ax.text(j, i, format(cm[i, j], fmt),\n",
        "                    ha=\"center\", va=\"center\",\n",
        "                    color=\"white\" if cm[i, j] > thresh else \"black\")\n",
        "    fig.tight_layout()\n",
        "    return ax\n",
        "\n",
        "\n",
        "np.set_printoptions(precision=2)"
      ],
      "execution_count": 0,
      "outputs": []
    },
    {
      "metadata": {
        "id": "mgOSvAaUVsnz",
        "colab_type": "code",
        "colab": {}
      },
      "cell_type": "code",
      "source": [
        "class_names = np.array([0, 1, 2, 3, 4, 5, 6, 7, 8, 9])\n",
        "\n",
        "# Plot non-normalized confusion matrix\n",
        "plot_confusion_matrix(y_test_argmax, y_pred_argmax, classes=class_names,\n",
        "                      title='Confusion matrix, without normalization')\n",
        "\n",
        "# Plot normalized confusion matrix\n",
        "plot_confusion_matrix(y_test_argmax, y_pred_argmax, classes=class_names, normalize=True,\n",
        "                      title='Normalized confusion matrix')\n",
        "\n",
        "plt.show()\n"
      ],
      "execution_count": 0,
      "outputs": []
    },
    {
      "metadata": {
        "id": "Bj0vVGxtWikb",
        "colab_type": "code",
        "colab": {}
      },
      "cell_type": "code",
      "source": [
        ""
      ],
      "execution_count": 0,
      "outputs": []
    },
    {
      "metadata": {
        "id": "QHjdDBZnW6Hj",
        "colab_type": "code",
        "colab": {
          "base_uri": "https://localhost:8080/",
          "height": 51
        },
        "outputId": "1c0e1112-01d4-4b52-a5d9-d9f8718bcb6d"
      },
      "cell_type": "code",
      "source": [
        "!pip install -U -q PyDrive"
      ],
      "execution_count": 6,
      "outputs": [
        {
          "output_type": "stream",
          "text": [
            "\u001b[?25l\r\u001b[K    1% |▎                               | 10kB 20.0MB/s eta 0:00:01\r\u001b[K    2% |▋                               | 20kB 2.2MB/s eta 0:00:01\r\u001b[K    3% |█                               | 30kB 3.3MB/s eta 0:00:01\r\u001b[K    4% |█▎                              | 40kB 2.1MB/s eta 0:00:01\r\u001b[K    5% |█▋                              | 51kB 2.6MB/s eta 0:00:01\r\u001b[K    6% |██                              | 61kB 3.1MB/s eta 0:00:01\r\u001b[K    7% |██▎                             | 71kB 3.6MB/s eta 0:00:01\r\u001b[K    8% |██▋                             | 81kB 4.0MB/s eta 0:00:01\r\u001b[K    9% |███                             | 92kB 4.5MB/s eta 0:00:01\r\u001b[K    10% |███▎                            | 102kB 3.5MB/s eta 0:00:01\r\u001b[K    11% |███▋                            | 112kB 3.5MB/s eta 0:00:01\r\u001b[K    12% |████                            | 122kB 4.9MB/s eta 0:00:01\r\u001b[K    13% |████▎                           | 133kB 4.9MB/s eta 0:00:01\r\u001b[K    14% |████▋                           | 143kB 9.2MB/s eta 0:00:01\r\u001b[K    15% |█████                           | 153kB 9.2MB/s eta 0:00:01\r\u001b[K    16% |█████▎                          | 163kB 9.1MB/s eta 0:00:01\r\u001b[K    17% |█████▋                          | 174kB 9.2MB/s eta 0:00:01\r\u001b[K    18% |██████                          | 184kB 9.3MB/s eta 0:00:01\r\u001b[K    19% |██████▎                         | 194kB 9.3MB/s eta 0:00:01\r\u001b[K    20% |██████▋                         | 204kB 40.2MB/s eta 0:00:01\r\u001b[K    21% |███████                         | 215kB 10.4MB/s eta 0:00:01\r\u001b[K    22% |███████▎                        | 225kB 10.4MB/s eta 0:00:01\r\u001b[K    23% |███████▋                        | 235kB 10.4MB/s eta 0:00:01\r\u001b[K    24% |████████                        | 245kB 10.5MB/s eta 0:00:01\r\u001b[K    25% |████████▎                       | 256kB 10.6MB/s eta 0:00:01\r\u001b[K    26% |████████▋                       | 266kB 10.3MB/s eta 0:00:01\r\u001b[K    27% |█████████                       | 276kB 10.4MB/s eta 0:00:01\r\u001b[K    29% |█████████▎                      | 286kB 10.4MB/s eta 0:00:01\r\u001b[K    30% |█████████▋                      | 296kB 10.3MB/s eta 0:00:01\r\u001b[K    31% |██████████                      | 307kB 10.7MB/s eta 0:00:01\r\u001b[K    32% |██████████▎                     | 317kB 47.0MB/s eta 0:00:01\r\u001b[K    33% |██████████▋                     | 327kB 47.3MB/s eta 0:00:01\r\u001b[K    34% |███████████                     | 337kB 49.5MB/s eta 0:00:01\r\u001b[K    35% |███████████▎                    | 348kB 45.1MB/s eta 0:00:01\r\u001b[K    36% |███████████▋                    | 358kB 44.8MB/s eta 0:00:01\r\u001b[K    37% |████████████                    | 368kB 52.7MB/s eta 0:00:01\r\u001b[K    38% |████████████▎                   | 378kB 51.9MB/s eta 0:00:01\r\u001b[K    39% |████████████▋                   | 389kB 52.3MB/s eta 0:00:01\r\u001b[K    40% |█████████████                   | 399kB 12.3MB/s eta 0:00:01\r\u001b[K    41% |█████████████▎                  | 409kB 12.3MB/s eta 0:00:01\r\u001b[K    42% |█████████████▋                  | 419kB 12.3MB/s eta 0:00:01\r\u001b[K    43% |██████████████                  | 430kB 12.3MB/s eta 0:00:01\r\u001b[K    44% |██████████████▎                 | 440kB 12.2MB/s eta 0:00:01\r\u001b[K    45% |██████████████▋                 | 450kB 12.3MB/s eta 0:00:01\r\u001b[K    46% |███████████████                 | 460kB 12.3MB/s eta 0:00:01\r\u001b[K    47% |███████████████▎                | 471kB 12.3MB/s eta 0:00:01\r\u001b[K    48% |███████████████▋                | 481kB 12.3MB/s eta 0:00:01\r\u001b[K    49% |████████████████                | 491kB 12.2MB/s eta 0:00:01\r\u001b[K    50% |████████████████▎               | 501kB 49.8MB/s eta 0:00:01\r\u001b[K    51% |████████████████▋               | 512kB 47.3MB/s eta 0:00:01\r\u001b[K    52% |█████████████████               | 522kB 48.1MB/s eta 0:00:01\r\u001b[K    53% |█████████████████▎              | 532kB 48.6MB/s eta 0:00:01\r\u001b[K    54% |█████████████████▋              | 542kB 10.9MB/s eta 0:00:01\r\u001b[K    55% |██████████████████              | 552kB 11.0MB/s eta 0:00:01\r\u001b[K    57% |██████████████████▎             | 563kB 11.0MB/s eta 0:00:01\r\u001b[K    58% |██████████████████▋             | 573kB 10.9MB/s eta 0:00:01\r\u001b[K    59% |███████████████████             | 583kB 11.0MB/s eta 0:00:01\r\u001b[K    60% |███████████████████▎            | 593kB 11.0MB/s eta 0:00:01\r\u001b[K    61% |███████████████████▋            | 604kB 11.0MB/s eta 0:00:01\r\u001b[K    62% |████████████████████            | 614kB 11.2MB/s eta 0:00:01\r\u001b[K    63% |████████████████████▎           | 624kB 11.2MB/s eta 0:00:01\r\u001b[K    64% |████████████████████▋           | 634kB 11.2MB/s eta 0:00:01\r\u001b[K    65% |█████████████████████           | 645kB 53.4MB/s eta 0:00:01\r\u001b[K    66% |█████████████████████▎          | 655kB 56.6MB/s eta 0:00:01\r\u001b[K    67% |█████████████████████▋          | 665kB 46.7MB/s eta 0:00:01\r\u001b[K    68% |██████████████████████          | 675kB 47.2MB/s eta 0:00:01\r\u001b[K    69% |██████████████████████▎         | 686kB 47.9MB/s eta 0:00:01\r\u001b[K    70% |██████████████████████▋         | 696kB 48.6MB/s eta 0:00:01\r\u001b[K    71% |███████████████████████         | 706kB 48.6MB/s eta 0:00:01\r\u001b[K    72% |███████████████████████▎        | 716kB 49.1MB/s eta 0:00:01\r\u001b[K    73% |███████████████████████▋        | 727kB 49.2MB/s eta 0:00:01\r\u001b[K    74% |████████████████████████        | 737kB 48.5MB/s eta 0:00:01\r\u001b[K    75% |████████████████████████▎       | 747kB 49.8MB/s eta 0:00:01\r\u001b[K    76% |████████████████████████▋       | 757kB 50.6MB/s eta 0:00:01\r\u001b[K    77% |████████████████████████▉       | 768kB 64.9MB/s eta 0:00:01\r\u001b[K    78% |█████████████████████████▏      | 778kB 66.2MB/s eta 0:00:01\r\u001b[K    79% |█████████████████████████▌      | 788kB 65.9MB/s eta 0:00:01\r\u001b[K    80% |█████████████████████████▉      | 798kB 65.5MB/s eta 0:00:01\r\u001b[K    81% |██████████████████████████▏     | 808kB 64.1MB/s eta 0:00:01\r\u001b[K    82% |██████████████████████████▌     | 819kB 61.5MB/s eta 0:00:01\r\u001b[K    83% |██████████████████████████▉     | 829kB 62.4MB/s eta 0:00:01\r\u001b[K    85% |███████████████████████████▏    | 839kB 63.8MB/s eta 0:00:01\r\u001b[K    86% |███████████████████████████▌    | 849kB 63.7MB/s eta 0:00:01\r\u001b[K    87% |███████████████████████████▉    | 860kB 57.5MB/s eta 0:00:01\r\u001b[K    88% |████████████████████████████▏   | 870kB 56.4MB/s eta 0:00:01\r\u001b[K    89% |████████████████████████████▌   | 880kB 56.3MB/s eta 0:00:01\r\u001b[K    90% |████████████████████████████▉   | 890kB 56.6MB/s eta 0:00:01\r\u001b[K    91% |█████████████████████████████▏  | 901kB 56.8MB/s eta 0:00:01\r\u001b[K    92% |█████████████████████████████▌  | 911kB 58.1MB/s eta 0:00:01\r\u001b[K    93% |█████████████████████████████▉  | 921kB 59.0MB/s eta 0:00:01\r\u001b[K    94% |██████████████████████████████▏ | 931kB 58.7MB/s eta 0:00:01\r\u001b[K    95% |██████████████████████████████▌ | 942kB 58.8MB/s eta 0:00:01\r\u001b[K    96% |██████████████████████████████▉ | 952kB 58.8MB/s eta 0:00:01\r\u001b[K    97% |███████████████████████████████▏| 962kB 66.5MB/s eta 0:00:01\r\u001b[K    98% |███████████████████████████████▌| 972kB 66.6MB/s eta 0:00:01\r\u001b[K    99% |███████████████████████████████▉| 983kB 64.7MB/s eta 0:00:01\r\u001b[K    100% |████████████████████████████████| 993kB 21.1MB/s \n",
            "\u001b[?25h  Building wheel for PyDrive (setup.py) ... \u001b[?25ldone\n",
            "\u001b[?25h"
          ],
          "name": "stdout"
        }
      ]
    },
    {
      "metadata": {
        "id": "DazKPcxTW0PU",
        "colab_type": "code",
        "colab": {}
      },
      "cell_type": "code",
      "source": [
        "from pydrive.auth import GoogleAuth\n",
        "from pydrive.drive import GoogleDrive \n",
        "from google.colab import auth \n",
        "from oauth2client.client import GoogleCredentials"
      ],
      "execution_count": 0,
      "outputs": []
    },
    {
      "metadata": {
        "id": "nVTb_IyqXDSr",
        "colab_type": "code",
        "colab": {}
      },
      "cell_type": "code",
      "source": [
        "auth.authenticate_user()\n",
        "gauth = GoogleAuth()\n",
        "gauth.credentials = GoogleCredentials.get_application_default()                       \n",
        "drive = GoogleDrive(gauth)"
      ],
      "execution_count": 0,
      "outputs": []
    },
    {
      "metadata": {
        "id": "BrJ3Jh31XMez",
        "colab_type": "code",
        "colab": {}
      },
      "cell_type": "code",
      "source": [
        "model.save('MNIST_3.h5')\n",
        "classifier_file = drive.CreateFile({'title' : 'MNIST_3.h5'})    \n",
        "classifier_file.SetContentFile('MNIST_3.h5')    \n",
        "classifier_file.Upload()"
      ],
      "execution_count": 0,
      "outputs": []
    }
  ]
}