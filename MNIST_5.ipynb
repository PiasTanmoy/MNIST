{
  "nbformat": 4,
  "nbformat_minor": 0,
  "metadata": {
    "colab": {
      "name": "MNIST_P.ipynb",
      "version": "0.3.2",
      "provenance": [],
      "collapsed_sections": []
    },
    "kernelspec": {
      "name": "python3",
      "display_name": "Python 3"
    },
    "accelerator": "GPU"
  },
  "cells": [
    {
      "metadata": {
        "id": "uk2r6ClzUG47",
        "colab_type": "code",
        "colab": {
          "base_uri": "https://localhost:8080/",
          "height": 476
        },
        "outputId": "95b8d1b7-0177-4ef7-e166-ad800ed98f4a"
      },
      "cell_type": "code",
      "source": [
        "\n",
        "from __future__ import print_function\n",
        "import numpy as np\n",
        "from keras.datasets import mnist\n",
        "from keras.models import Sequential\n",
        "from keras.layers.core import Dense\n",
        "from keras.layers.core import Activation\n",
        "from keras.layers import Dropout\n",
        "from keras.optimizers import SGD\n",
        "from keras.optimizers import Adam\n",
        "from keras.utils import np_utils\n",
        "from sklearn.utils.multiclass import unique_labels\n",
        "import matplotlib.pyplot as plt\n",
        "# =============================================================================\n",
        "# \n",
        "# =============================================================================\n",
        "\n",
        "\n",
        "np.random.seed(0)\n",
        "N_EPOCH = 20\n",
        "BATCH_SIZE = 128\n",
        "VERBOSE = 1\n",
        "N_CLASS = 10\n",
        "OPTIMIZER = Adam()\n",
        "N_HIDDEN_1 = 128\n",
        "N_HIDDEN_2 = 512\n",
        "N_HIDDEN_3 = 256\n",
        "N_HIDDEN_4 = 128\n",
        "N_HIDDEN_5 = 1024\n",
        "VALIDATION_SPLIT = 0.2\n",
        "DROPOUT = 0.3\n",
        "\n",
        "\n",
        "(X_train, y_train), (X_test, y_test) = mnist.load_data()\n",
        "\n",
        "# =============================================================================\n",
        "# \n",
        "# =============================================================================\n",
        "\n",
        "RESHAPE = 784\n",
        "\n",
        "\n",
        "N_TRAIN_DATA = X_train.shape[0]\n",
        "N_TEST_DATA = X_test.shape[0]\n",
        "\n",
        "X_train = X_train.reshape(N_TRAIN_DATA, RESHAPE)\n",
        "X_test = X_test.reshape(N_TEST_DATA, RESHAPE)\n",
        "\n",
        "X_train = X_train.astype('float32')\n",
        "X_test = X_test.astype('float32')\n",
        "\n",
        "\n",
        "X_train /= 225\n",
        "X_test /= 225\n",
        "\n",
        "y_train = np_utils.to_categorical(y_train, N_CLASS)\n",
        "y_test = np_utils.to_categorical(y_test, N_CLASS)\n",
        "\n",
        "# =============================================================================\n",
        "# \n",
        "# =============================================================================\n",
        "model = Sequential()\n",
        "\n",
        "model.add(Dense(units = N_HIDDEN_1, \n",
        "                activation='relu', \n",
        "                kernel_initializer='glorot_uniform', \n",
        "                input_dim=RESHAPE))\n",
        "\n",
        "model.add(Dense(units = N_HIDDEN_2, \n",
        "                activation='relu', \n",
        "                kernel_initializer='glorot_uniform',\n",
        "                ))\n",
        "\n",
        "model.add(Dropout(DROPOUT))\n",
        "\n",
        "model.add(Dense(units = N_HIDDEN_3, \n",
        "                activation='relu', \n",
        "                kernel_initializer='glorot_uniform', \n",
        "                ))\n",
        "\n",
        "model.add(Dropout(DROPOUT))\n",
        "\n",
        "model.add(Dense(units = N_HIDDEN_4, \n",
        "                activation='relu', \n",
        "                kernel_initializer='glorot_uniform', \n",
        "                ))\n",
        "\n",
        "model.add(Dropout(DROPOUT))\n",
        "\n",
        "model.add(Dense(units = N_HIDDEN_5, \n",
        "                activation='relu', \n",
        "                kernel_initializer='glorot_uniform', \n",
        "                ))\n",
        "\n",
        "model.add(Dropout(DROPOUT))\n",
        "\n",
        "model.add(Dense(units = N_CLASS, \n",
        "                activation='softmax', \n",
        "                kernel_initializer='glorot_uniform', \n",
        "                ))\n",
        "\n",
        "model.summary()\n",
        "\n",
        "model.compile(loss = 'categorical_crossentropy', \n",
        "              optimizer=OPTIMIZER,\n",
        "              metrics=['accuracy'])\n"
      ],
      "execution_count": 19,
      "outputs": [
        {
          "output_type": "stream",
          "text": [
            "_________________________________________________________________\n",
            "Layer (type)                 Output Shape              Param #   \n",
            "=================================================================\n",
            "dense_23 (Dense)             (None, 128)               100480    \n",
            "_________________________________________________________________\n",
            "dense_24 (Dense)             (None, 512)               66048     \n",
            "_________________________________________________________________\n",
            "dropout_2 (Dropout)          (None, 512)               0         \n",
            "_________________________________________________________________\n",
            "dense_25 (Dense)             (None, 256)               131328    \n",
            "_________________________________________________________________\n",
            "dropout_3 (Dropout)          (None, 256)               0         \n",
            "_________________________________________________________________\n",
            "dense_26 (Dense)             (None, 128)               32896     \n",
            "_________________________________________________________________\n",
            "dropout_4 (Dropout)          (None, 128)               0         \n",
            "_________________________________________________________________\n",
            "dense_27 (Dense)             (None, 1024)              132096    \n",
            "_________________________________________________________________\n",
            "dropout_5 (Dropout)          (None, 1024)              0         \n",
            "_________________________________________________________________\n",
            "dense_28 (Dense)             (None, 10)                10250     \n",
            "=================================================================\n",
            "Total params: 473,098\n",
            "Trainable params: 473,098\n",
            "Non-trainable params: 0\n",
            "_________________________________________________________________\n"
          ],
          "name": "stdout"
        }
      ]
    },
    {
      "metadata": {
        "id": "fDXd5wuNUail",
        "colab_type": "code",
        "colab": {
          "base_uri": "https://localhost:8080/",
          "height": 1734
        },
        "outputId": "6e2e9c75-25b8-4c84-a7cf-cd74486f40ed"
      },
      "cell_type": "code",
      "source": [
        "history = model.fit(X_train, y_train, batch_size = BATCH_SIZE, \n",
        "                    epochs = N_EPOCH, verbose = VERBOSE, \n",
        "                    validation_split=VALIDATION_SPLIT)"
      ],
      "execution_count": 20,
      "outputs": [
        {
          "output_type": "stream",
          "text": [
            "Train on 48000 samples, validate on 12000 samples\n",
            "Epoch 1/50\n",
            "48000/48000 [==============================] - 4s 80us/step - loss: 0.4230 - acc: 0.8656 - val_loss: 0.1595 - val_acc: 0.9520\n",
            "Epoch 2/50\n",
            "48000/48000 [==============================] - 3s 69us/step - loss: 0.1600 - acc: 0.9556 - val_loss: 0.1249 - val_acc: 0.9631\n",
            "Epoch 3/50\n",
            "48000/48000 [==============================] - 3s 69us/step - loss: 0.1165 - acc: 0.9674 - val_loss: 0.1102 - val_acc: 0.9702\n",
            "Epoch 4/50\n",
            "48000/48000 [==============================] - 3s 69us/step - loss: 0.0913 - acc: 0.9745 - val_loss: 0.1198 - val_acc: 0.9675\n",
            "Epoch 5/50\n",
            "48000/48000 [==============================] - 3s 70us/step - loss: 0.0765 - acc: 0.9789 - val_loss: 0.1142 - val_acc: 0.9687\n",
            "Epoch 6/50\n",
            "48000/48000 [==============================] - 3s 70us/step - loss: 0.0668 - acc: 0.9810 - val_loss: 0.1016 - val_acc: 0.9709\n",
            "Epoch 7/50\n",
            "48000/48000 [==============================] - 3s 72us/step - loss: 0.0588 - acc: 0.9832 - val_loss: 0.1109 - val_acc: 0.9728\n",
            "Epoch 8/50\n",
            "48000/48000 [==============================] - 3s 72us/step - loss: 0.0505 - acc: 0.9850 - val_loss: 0.1300 - val_acc: 0.9683\n",
            "Epoch 9/50\n",
            "48000/48000 [==============================] - 3s 70us/step - loss: 0.0509 - acc: 0.9851 - val_loss: 0.0995 - val_acc: 0.9758\n",
            "Epoch 10/50\n",
            "48000/48000 [==============================] - 3s 70us/step - loss: 0.0438 - acc: 0.9878 - val_loss: 0.1115 - val_acc: 0.9725\n",
            "Epoch 11/50\n",
            "48000/48000 [==============================] - 3s 70us/step - loss: 0.0395 - acc: 0.9890 - val_loss: 0.1012 - val_acc: 0.9758\n",
            "Epoch 12/50\n",
            "48000/48000 [==============================] - 3s 70us/step - loss: 0.0306 - acc: 0.9914 - val_loss: 0.1142 - val_acc: 0.9772\n",
            "Epoch 13/50\n",
            "48000/48000 [==============================] - 3s 70us/step - loss: 0.0334 - acc: 0.9903 - val_loss: 0.1063 - val_acc: 0.9769\n",
            "Epoch 14/50\n",
            "48000/48000 [==============================] - 3s 70us/step - loss: 0.0299 - acc: 0.9916 - val_loss: 0.1353 - val_acc: 0.9749\n",
            "Epoch 15/50\n",
            "48000/48000 [==============================] - 4s 74us/step - loss: 0.0296 - acc: 0.9915 - val_loss: 0.1195 - val_acc: 0.9752\n",
            "Epoch 16/50\n",
            "48000/48000 [==============================] - 3s 69us/step - loss: 0.0265 - acc: 0.9924 - val_loss: 0.1164 - val_acc: 0.9754\n",
            "Epoch 17/50\n",
            "48000/48000 [==============================] - 3s 70us/step - loss: 0.0302 - acc: 0.9920 - val_loss: 0.1183 - val_acc: 0.9752\n",
            "Epoch 18/50\n",
            "48000/48000 [==============================] - 3s 69us/step - loss: 0.0271 - acc: 0.9925 - val_loss: 0.1173 - val_acc: 0.9787\n",
            "Epoch 19/50\n",
            "48000/48000 [==============================] - 3s 70us/step - loss: 0.0248 - acc: 0.9931 - val_loss: 0.1317 - val_acc: 0.9748\n",
            "Epoch 20/50\n",
            "48000/48000 [==============================] - 3s 69us/step - loss: 0.0227 - acc: 0.9933 - val_loss: 0.1211 - val_acc: 0.9756\n",
            "Epoch 21/50\n",
            "48000/48000 [==============================] - 3s 70us/step - loss: 0.0211 - acc: 0.9944 - val_loss: 0.1252 - val_acc: 0.9759\n",
            "Epoch 22/50\n",
            "48000/48000 [==============================] - 3s 69us/step - loss: 0.0221 - acc: 0.9937 - val_loss: 0.1183 - val_acc: 0.9779\n",
            "Epoch 23/50\n",
            "48000/48000 [==============================] - 3s 69us/step - loss: 0.0211 - acc: 0.9942 - val_loss: 0.1256 - val_acc: 0.9778\n",
            "Epoch 24/50\n",
            "48000/48000 [==============================] - 3s 69us/step - loss: 0.0241 - acc: 0.9942 - val_loss: 0.1170 - val_acc: 0.9775\n",
            "Epoch 25/50\n",
            "48000/48000 [==============================] - 3s 69us/step - loss: 0.0174 - acc: 0.9956 - val_loss: 0.1274 - val_acc: 0.9778\n",
            "Epoch 26/50\n",
            "48000/48000 [==============================] - 3s 70us/step - loss: 0.0216 - acc: 0.9946 - val_loss: 0.1317 - val_acc: 0.9761\n",
            "Epoch 27/50\n",
            "48000/48000 [==============================] - 3s 69us/step - loss: 0.0207 - acc: 0.9947 - val_loss: 0.1282 - val_acc: 0.9757\n",
            "Epoch 28/50\n",
            "48000/48000 [==============================] - 3s 70us/step - loss: 0.0151 - acc: 0.9962 - val_loss: 0.1258 - val_acc: 0.9791\n",
            "Epoch 29/50\n",
            "48000/48000 [==============================] - 3s 70us/step - loss: 0.0163 - acc: 0.9957 - val_loss: 0.1412 - val_acc: 0.9782\n",
            "Epoch 30/50\n",
            "48000/48000 [==============================] - 3s 71us/step - loss: 0.0209 - acc: 0.9942 - val_loss: 0.1186 - val_acc: 0.9772\n",
            "Epoch 31/50\n",
            "48000/48000 [==============================] - 3s 70us/step - loss: 0.0155 - acc: 0.9960 - val_loss: 0.1480 - val_acc: 0.9758\n",
            "Epoch 32/50\n",
            "48000/48000 [==============================] - 3s 69us/step - loss: 0.0177 - acc: 0.9953 - val_loss: 0.1552 - val_acc: 0.9748\n",
            "Epoch 33/50\n",
            "48000/48000 [==============================] - 3s 69us/step - loss: 0.0170 - acc: 0.9953 - val_loss: 0.1301 - val_acc: 0.9772\n",
            "Epoch 34/50\n",
            "48000/48000 [==============================] - 3s 70us/step - loss: 0.0169 - acc: 0.9953 - val_loss: 0.1323 - val_acc: 0.9772\n",
            "Epoch 35/50\n",
            "48000/48000 [==============================] - 3s 70us/step - loss: 0.0196 - acc: 0.9954 - val_loss: 0.1453 - val_acc: 0.9751\n",
            "Epoch 36/50\n",
            "48000/48000 [==============================] - 3s 69us/step - loss: 0.0134 - acc: 0.9966 - val_loss: 0.1703 - val_acc: 0.9730\n",
            "Epoch 37/50\n",
            "48000/48000 [==============================] - 3s 69us/step - loss: 0.0160 - acc: 0.9959 - val_loss: 0.1354 - val_acc: 0.9772\n",
            "Epoch 38/50\n",
            "48000/48000 [==============================] - 3s 68us/step - loss: 0.0138 - acc: 0.9970 - val_loss: 0.1629 - val_acc: 0.9757\n",
            "Epoch 39/50\n",
            "48000/48000 [==============================] - 3s 69us/step - loss: 0.0153 - acc: 0.9965 - val_loss: 0.1501 - val_acc: 0.9765\n",
            "Epoch 40/50\n",
            "48000/48000 [==============================] - 3s 68us/step - loss: 0.0175 - acc: 0.9954 - val_loss: 0.1433 - val_acc: 0.9758\n",
            "Epoch 41/50\n",
            "48000/48000 [==============================] - 3s 72us/step - loss: 0.0145 - acc: 0.9965 - val_loss: 0.1395 - val_acc: 0.9767\n",
            "Epoch 42/50\n",
            "48000/48000 [==============================] - 3s 71us/step - loss: 0.0113 - acc: 0.9971 - val_loss: 0.1588 - val_acc: 0.9766\n",
            "Epoch 43/50\n",
            "48000/48000 [==============================] - 3s 69us/step - loss: 0.0124 - acc: 0.9969 - val_loss: 0.1587 - val_acc: 0.9775\n",
            "Epoch 44/50\n",
            "48000/48000 [==============================] - 3s 71us/step - loss: 0.0123 - acc: 0.9973 - val_loss: 0.1606 - val_acc: 0.9778\n",
            "Epoch 45/50\n",
            "48000/48000 [==============================] - 4s 74us/step - loss: 0.0167 - acc: 0.9960 - val_loss: 0.1632 - val_acc: 0.9736\n",
            "Epoch 46/50\n",
            "48000/48000 [==============================] - 3s 71us/step - loss: 0.0132 - acc: 0.9973 - val_loss: 0.1844 - val_acc: 0.9725\n",
            "Epoch 47/50\n",
            "48000/48000 [==============================] - 3s 71us/step - loss: 0.0181 - acc: 0.9958 - val_loss: 0.1403 - val_acc: 0.9776\n",
            "Epoch 48/50\n",
            "48000/48000 [==============================] - 3s 72us/step - loss: 0.0126 - acc: 0.9970 - val_loss: 0.1670 - val_acc: 0.9742\n",
            "Epoch 49/50\n",
            "48000/48000 [==============================] - 3s 70us/step - loss: 0.0178 - acc: 0.9960 - val_loss: 0.1481 - val_acc: 0.9767\n",
            "Epoch 50/50\n",
            "48000/48000 [==============================] - 3s 72us/step - loss: 0.0143 - acc: 0.9966 - val_loss: 0.1680 - val_acc: 0.9773\n"
          ],
          "name": "stdout"
        }
      ]
    },
    {
      "metadata": {
        "id": "MAOaMTd9YqDJ",
        "colab_type": "code",
        "colab": {}
      },
      "cell_type": "code",
      "source": [
        "TITLE = 'MNIST_5.h5'\n",
        "model.save(TITLE)\n",
        "classifier_file = drive.CreateFile({'title' : TITLE})    \n",
        "classifier_file.SetContentFile(TITLE)    \n",
        "classifier_file.Upload()\n"
      ],
      "execution_count": 0,
      "outputs": []
    },
    {
      "metadata": {
        "id": "yvMzyLMrZinR",
        "colab_type": "code",
        "colab": {}
      },
      "cell_type": "code",
      "source": [
        "from keras.models import load_model\n",
        "model = load_model('MNIST_3.h5')"
      ],
      "execution_count": 0,
      "outputs": []
    },
    {
      "metadata": {
        "id": "hS6kL7QXVMXN",
        "colab_type": "code",
        "colab": {
          "base_uri": "https://localhost:8080/",
          "height": 752
        },
        "outputId": "0cb6eb87-3f36-4ce5-c409-b7c4c5152597"
      },
      "cell_type": "code",
      "source": [
        "import matplotlib.pyplot as plt\n",
        "\n",
        "print(history.history.keys())\n",
        "# summarize history for accuracy\n",
        "plt.plot(history.history['acc'])\n",
        "plt.plot(history.history['val_acc'])\n",
        "plt.title('model accuracy')\n",
        "plt.ylabel('accuracy')\n",
        "plt.xlabel('epoch')\n",
        "plt.legend(['train', 'test'], loc='upper left')\n",
        "plt.show()\n",
        "\n",
        "\n",
        "# summarize history for loss\n",
        "plt.plot(history.history['loss'])\n",
        "plt.plot(history.history['val_loss'])\n",
        "plt.title('model loss')\n",
        "plt.ylabel('loss')\n",
        "plt.xlabel('epoch')\n",
        "plt.legend(['train', 'test'], loc='upper left')\n",
        "plt.show()\n",
        "\n",
        "\n",
        "\n",
        "\n"
      ],
      "execution_count": 22,
      "outputs": [
        {
          "output_type": "stream",
          "text": [
            "dict_keys(['val_loss', 'val_acc', 'loss', 'acc'])\n"
          ],
          "name": "stdout"
        },
        {
          "output_type": "display_data",
          "data": {
            "image/png": "[encoded data removed]",
            "text/plain": [
              "<Figure size 576x396 with 1 Axes>"
            ]
          },
          "metadata": {
            "tags": []
          }
        },
        {
          "output_type": "display_data",
          "data": {
            "image/png": "[encoded data removed]",
            "text/plain": [
              "<Figure size 576x396 with 1 Axes>"
            ]
          },
          "metadata": {
            "tags": []
          }
        }
      ]
    },
    {
      "metadata": {
        "id": "KiC1PDhGZsHB",
        "colab_type": "code",
        "colab": {
          "base_uri": "https://localhost:8080/",
          "height": 68
        },
        "outputId": "151fe458-f5d6-4f2e-94a4-f4a510c8e091"
      },
      "cell_type": "code",
      "source": [
        "scores = model.evaluate(X_test, y_test, verbose=1)\n",
        "print(\"Test Score: \", scores[0])\n",
        "print(\"Accuracy: \" , scores[1])"
      ],
      "execution_count": 23,
      "outputs": [
        {
          "output_type": "stream",
          "text": [
            "10000/10000 [==============================] - 1s 56us/step\n",
            "Test Score:  0.1371793817155042\n",
            "Accuracy:  0.9802\n"
          ],
          "name": "stdout"
        }
      ]
    },
    {
      "metadata": {
        "id": "GW1EDr-qVZ9D",
        "colab_type": "code",
        "colab": {
          "base_uri": "https://localhost:8080/",
          "height": 187
        },
        "outputId": "be6c13a5-9a2f-4aa0-9469-06703636f29c"
      },
      "cell_type": "code",
      "source": [
        "\n",
        "# Predicting the Test set results\n",
        "y_pred = model.predict(X_test)\n",
        "\n",
        "y_test_argmax = y_test.argmax(axis=1)\n",
        "y_pred_argmax = y_pred.argmax(axis=1)\n",
        "\n",
        "from sklearn.metrics import confusion_matrix\n",
        "cm = confusion_matrix(y_test.argmax(axis=1), y_pred.argmax(axis=1))\n",
        "\n",
        "cm"
      ],
      "execution_count": 24,
      "outputs": [
        {
          "output_type": "execute_result",
          "data": {
            "text/plain": [
              "array([[ 973,    0,    1,    0,    1,    0,    1,    1,    2,    1],\n",
              "       [   0, 1123,    5,    0,    0,    0,    3,    0,    3,    1],\n",
              "       [   1,    1, 1018,    1,    1,    0,    1,    5,    4,    0],\n",
              "       [   0,    0,    6,  985,    0,    4,    0,    5,    8,    2],\n",
              "       [   0,    1,    1,    1,  967,    0,    5,    1,    0,    6],\n",
              "       [   2,    0,    0,    9,    3,  866,    4,    2,    6,    0],\n",
              "       [   7,    1,    0,    1,    7,    3,  938,    0,    1,    0],\n",
              "       [   3,    4,   10,    0,    1,    0,    0, 1002,    3,    5],\n",
              "       [   2,    0,    6,    2,    3,    3,    2,    2,  951,    3],\n",
              "       [   1,    2,    1,    3,   12,    4,    0,    6,    1,  979]])"
            ]
          },
          "metadata": {
            "tags": []
          },
          "execution_count": 24
        }
      ]
    },
    {
      "metadata": {
        "id": "JBS0wnBMVl8T",
        "colab_type": "code",
        "colab": {}
      },
      "cell_type": "code",
      "source": [
        "\n",
        "def plot_confusion_matrix(y_true, y_pred, classes,\n",
        "                          normalize=False,\n",
        "                          title=None,\n",
        "                          cmap=plt.cm.Blues):\n",
        "    \"\"\"\n",
        "    This function prints and plots the confusion matrix.\n",
        "    Normalization can be applied by setting `normalize=True`.\n",
        "    \"\"\"\n",
        "    if not title:\n",
        "        if normalize:\n",
        "            title = 'Normalized confusion matrix'\n",
        "        else:\n",
        "            title = 'Confusion matrix, without normalization'\n",
        "\n",
        "    # Compute confusion matrix\n",
        "    cm = confusion_matrix(y_true, y_pred)\n",
        "    # Only use the labels that appear in the data\n",
        "    classes = classes[unique_labels(y_true, y_pred)]\n",
        "    if normalize:\n",
        "        cm = cm.astype('float') / cm.sum(axis=1)[:, np.newaxis]\n",
        "        print(\"Normalized confusion matrix\")\n",
        "    else:\n",
        "        print('Confusion matrix, without normalization')\n",
        "\n",
        "    print(cm)\n",
        "\n",
        "    fig, ax = plt.subplots()\n",
        "    im = ax.imshow(cm, interpolation='nearest', cmap=cmap)\n",
        "    ax.figure.colorbar(im, ax=ax)\n",
        "    # We want to show all ticks...\n",
        "    ax.set(xticks=np.arange(cm.shape[1]),\n",
        "           yticks=np.arange(cm.shape[0]),\n",
        "           # ... and label them with the respective list entries\n",
        "           xticklabels=classes, yticklabels=classes,\n",
        "           title=title,\n",
        "           ylabel='True label',\n",
        "           xlabel='Predicted label')\n",
        "\n",
        "    # Rotate the tick labels and set their alignment.\n",
        "    plt.setp(ax.get_xticklabels(), rotation=45, ha=\"right\",\n",
        "             rotation_mode=\"anchor\")\n",
        "\n",
        "    # Loop over data dimensions and create text annotations.\n",
        "    fmt = '.2f' if normalize else 'd'\n",
        "    thresh = cm.max() / 2.\n",
        "    for i in range(cm.shape[0]):\n",
        "        for j in range(cm.shape[1]):\n",
        "            ax.text(j, i, format(cm[i, j], fmt),\n",
        "                    ha=\"center\", va=\"center\",\n",
        "                    color=\"white\" if cm[i, j] > thresh else \"black\")\n",
        "    fig.tight_layout()\n",
        "    return ax\n",
        "\n",
        "\n",
        "np.set_printoptions(precision=2)"
      ],
      "execution_count": 0,
      "outputs": []
    },
    {
      "metadata": {
        "id": "mgOSvAaUVsnz",
        "colab_type": "code",
        "colab": {}
      },
      "cell_type": "code",
      "source": [
        "class_names = np.array([0, 1, 2, 3, 4, 5, 6, 7, 8, 9])\n",
        "\n",
        "# Plot non-normalized confusion matrix\n",
        "plot_confusion_matrix(y_test_argmax, y_pred_argmax, classes=class_names,\n",
        "                      title='Confusion matrix, without normalization')\n",
        "\n",
        "# Plot normalized confusion matrix\n",
        "plot_confusion_matrix(y_test_argmax, y_pred_argmax, classes=class_names, normalize=True,\n",
        "                      title='Normalized confusion matrix')\n",
        "\n",
        "plt.show()\n"
      ],
      "execution_count": 0,
      "outputs": []
    },
    {
      "metadata": {
        "id": "Bj0vVGxtWikb",
        "colab_type": "code",
        "colab": {}
      },
      "cell_type": "code",
      "source": [
        ""
      ],
      "execution_count": 0,
      "outputs": []
    },
    {
      "metadata": {
        "id": "QHjdDBZnW6Hj",
        "colab_type": "code",
        "colab": {
          "base_uri": "https://localhost:8080/",
          "height": 51
        },
        "outputId": "1c0e1112-01d4-4b52-a5d9-d9f8718bcb6d"
      },
      "cell_type": "code",
      "source": [
        "!pip install -U -q PyDrive"
      ],
      "execution_count": 6,
      "outputs": [
        {
          "output_type": "stream",
          "text": [
            "\u001b[?25l\r\u001b[K    1% |▎                               | 10kB 20.0MB/s eta 0:00:01\r\u001b[K    2% |▋                               | 20kB 2.2MB/s eta 0:00:01\r\u001b[K    3% |█                               | 30kB 3.3MB/s eta 0:00:01\r\u001b[K    4% |█▎                              | 40kB 2.1MB/s eta 0:00:01\r\u001b[K    5% |█▋                              | 51kB 2.6MB/s eta 0:00:01\r\u001b[K    6% |██                              | 61kB 3.1MB/s eta 0:00:01\r\u001b[K    7% |██▎                             | 71kB 3.6MB/s eta 0:00:01\r\u001b[K    8% |██▋                             | 81kB 4.0MB/s eta 0:00:01\r\u001b[K    9% |███                             | 92kB 4.5MB/s eta 0:00:01\r\u001b[K    10% |███▎                            | 102kB 3.5MB/s eta 0:00:01\r\u001b[K    11% |███▋                            | 112kB 3.5MB/s eta 0:00:01\r\u001b[K    12% |████                            | 122kB 4.9MB/s eta 0:00:01\r\u001b[K    13% |████▎                           | 133kB 4.9MB/s eta 0:00:01\r\u001b[K    14% |████▋                           | 143kB 9.2MB/s eta 0:00:01\r\u001b[K    15% |█████                           | 153kB 9.2MB/s eta 0:00:01\r\u001b[K    16% |█████▎                          | 163kB 9.1MB/s eta 0:00:01\r\u001b[K    17% |█████▋                          | 174kB 9.2MB/s eta 0:00:01\r\u001b[K    18% |██████                          | 184kB 9.3MB/s eta 0:00:01\r\u001b[K    19% |██████▎                         | 194kB 9.3MB/s eta 0:00:01\r\u001b[K    20% |██████▋                         | 204kB 40.2MB/s eta 0:00:01\r\u001b[K    21% |███████                         | 215kB 10.4MB/s eta 0:00:01\r\u001b[K    22% |███████▎                        | 225kB 10.4MB/s eta 0:00:01\r\u001b[K    23% |███████▋                        | 235kB 10.4MB/s eta 0:00:01\r\u001b[K    24% |████████                        | 245kB 10.5MB/s eta 0:00:01\r\u001b[K    25% |████████▎                       | 256kB 10.6MB/s eta 0:00:01\r\u001b[K    26% |████████▋                       | 266kB 10.3MB/s eta 0:00:01\r\u001b[K    27% |█████████                       | 276kB 10.4MB/s eta 0:00:01\r\u001b[K    29% |█████████▎                      | 286kB 10.4MB/s eta 0:00:01\r\u001b[K    30% |█████████▋                      | 296kB 10.3MB/s eta 0:00:01\r\u001b[K    31% |██████████                      | 307kB 10.7MB/s eta 0:00:01\r\u001b[K    32% |██████████▎                     | 317kB 47.0MB/s eta 0:00:01\r\u001b[K    33% |██████████▋                     | 327kB 47.3MB/s eta 0:00:01\r\u001b[K    34% |███████████                     | 337kB 49.5MB/s eta 0:00:01\r\u001b[K    35% |███████████▎                    | 348kB 45.1MB/s eta 0:00:01\r\u001b[K    36% |███████████▋                    | 358kB 44.8MB/s eta 0:00:01\r\u001b[K    37% |████████████                    | 368kB 52.7MB/s eta 0:00:01\r\u001b[K    38% |████████████▎                   | 378kB 51.9MB/s eta 0:00:01\r\u001b[K    39% |████████████▋                   | 389kB 52.3MB/s eta 0:00:01\r\u001b[K    40% |█████████████                   | 399kB 12.3MB/s eta 0:00:01\r\u001b[K    41% |█████████████▎                  | 409kB 12.3MB/s eta 0:00:01\r\u001b[K    42% |█████████████▋                  | 419kB 12.3MB/s eta 0:00:01\r\u001b[K    43% |██████████████                  | 430kB 12.3MB/s eta 0:00:01\r\u001b[K    44% |██████████████▎                 | 440kB 12.2MB/s eta 0:00:01\r\u001b[K    45% |██████████████▋                 | 450kB 12.3MB/s eta 0:00:01\r\u001b[K    46% |███████████████                 | 460kB 12.3MB/s eta 0:00:01\r\u001b[K    47% |███████████████▎                | 471kB 12.3MB/s eta 0:00:01\r\u001b[K    48% |███████████████▋                | 481kB 12.3MB/s eta 0:00:01\r\u001b[K    49% |████████████████                | 491kB 12.2MB/s eta 0:00:01\r\u001b[K    50% |████████████████▎               | 501kB 49.8MB/s eta 0:00:01\r\u001b[K    51% |████████████████▋               | 512kB 47.3MB/s eta 0:00:01\r\u001b[K    52% |█████████████████               | 522kB 48.1MB/s eta 0:00:01\r\u001b[K    53% |█████████████████▎              | 532kB 48.6MB/s eta 0:00:01\r\u001b[K    54% |█████████████████▋              | 542kB 10.9MB/s eta 0:00:01\r\u001b[K    55% |██████████████████              | 552kB 11.0MB/s eta 0:00:01\r\u001b[K    57% |██████████████████▎             | 563kB 11.0MB/s eta 0:00:01\r\u001b[K    58% |██████████████████▋             | 573kB 10.9MB/s eta 0:00:01\r\u001b[K    59% |███████████████████             | 583kB 11.0MB/s eta 0:00:01\r\u001b[K    60% |███████████████████▎            | 593kB 11.0MB/s eta 0:00:01\r\u001b[K    61% |███████████████████▋            | 604kB 11.0MB/s eta 0:00:01\r\u001b[K    62% |████████████████████            | 614kB 11.2MB/s eta 0:00:01\r\u001b[K    63% |████████████████████▎           | 624kB 11.2MB/s eta 0:00:01\r\u001b[K    64% |████████████████████▋           | 634kB 11.2MB/s eta 0:00:01\r\u001b[K    65% |█████████████████████           | 645kB 53.4MB/s eta 0:00:01\r\u001b[K    66% |█████████████████████▎          | 655kB 56.6MB/s eta 0:00:01\r\u001b[K    67% |█████████████████████▋          | 665kB 46.7MB/s eta 0:00:01\r\u001b[K    68% |██████████████████████          | 675kB 47.2MB/s eta 0:00:01\r\u001b[K    69% |██████████████████████▎         | 686kB 47.9MB/s eta 0:00:01\r\u001b[K    70% |██████████████████████▋         | 696kB 48.6MB/s eta 0:00:01\r\u001b[K    71% |███████████████████████         | 706kB 48.6MB/s eta 0:00:01\r\u001b[K    72% |███████████████████████▎        | 716kB 49.1MB/s eta 0:00:01\r\u001b[K    73% |███████████████████████▋        | 727kB 49.2MB/s eta 0:00:01\r\u001b[K    74% |████████████████████████        | 737kB 48.5MB/s eta 0:00:01\r\u001b[K    75% |████████████████████████▎       | 747kB 49.8MB/s eta 0:00:01\r\u001b[K    76% |████████████████████████▋       | 757kB 50.6MB/s eta 0:00:01\r\u001b[K    77% |████████████████████████▉       | 768kB 64.9MB/s eta 0:00:01\r\u001b[K    78% |█████████████████████████▏      | 778kB 66.2MB/s eta 0:00:01\r\u001b[K    79% |█████████████████████████▌      | 788kB 65.9MB/s eta 0:00:01\r\u001b[K    80% |█████████████████████████▉      | 798kB 65.5MB/s eta 0:00:01\r\u001b[K    81% |██████████████████████████▏     | 808kB 64.1MB/s eta 0:00:01\r\u001b[K    82% |██████████████████████████▌     | 819kB 61.5MB/s eta 0:00:01\r\u001b[K    83% |██████████████████████████▉     | 829kB 62.4MB/s eta 0:00:01\r\u001b[K    85% |███████████████████████████▏    | 839kB 63.8MB/s eta 0:00:01\r\u001b[K    86% |███████████████████████████▌    | 849kB 63.7MB/s eta 0:00:01\r\u001b[K    87% |███████████████████████████▉    | 860kB 57.5MB/s eta 0:00:01\r\u001b[K    88% |████████████████████████████▏   | 870kB 56.4MB/s eta 0:00:01\r\u001b[K    89% |████████████████████████████▌   | 880kB 56.3MB/s eta 0:00:01\r\u001b[K    90% |████████████████████████████▉   | 890kB 56.6MB/s eta 0:00:01\r\u001b[K    91% |█████████████████████████████▏  | 901kB 56.8MB/s eta 0:00:01\r\u001b[K    92% |█████████████████████████████▌  | 911kB 58.1MB/s eta 0:00:01\r\u001b[K    93% |█████████████████████████████▉  | 921kB 59.0MB/s eta 0:00:01\r\u001b[K    94% |██████████████████████████████▏ | 931kB 58.7MB/s eta 0:00:01\r\u001b[K    95% |██████████████████████████████▌ | 942kB 58.8MB/s eta 0:00:01\r\u001b[K    96% |██████████████████████████████▉ | 952kB 58.8MB/s eta 0:00:01\r\u001b[K    97% |███████████████████████████████▏| 962kB 66.5MB/s eta 0:00:01\r\u001b[K    98% |███████████████████████████████▌| 972kB 66.6MB/s eta 0:00:01\r\u001b[K    99% |███████████████████████████████▉| 983kB 64.7MB/s eta 0:00:01\r\u001b[K    100% |████████████████████████████████| 993kB 21.1MB/s \n",
            "\u001b[?25h  Building wheel for PyDrive (setup.py) ... \u001b[?25ldone\n",
            "\u001b[?25h"
          ],
          "name": "stdout"
        }
      ]
    },
    {
      "metadata": {
        "id": "DazKPcxTW0PU",
        "colab_type": "code",
        "colab": {}
      },
      "cell_type": "code",
      "source": [
        "from pydrive.auth import GoogleAuth\n",
        "from pydrive.drive import GoogleDrive \n",
        "from google.colab import auth \n",
        "from oauth2client.client import GoogleCredentials"
      ],
      "execution_count": 0,
      "outputs": []
    },
    {
      "metadata": {
        "id": "nVTb_IyqXDSr",
        "colab_type": "code",
        "colab": {}
      },
      "cell_type": "code",
      "source": [
        "auth.authenticate_user()\n",
        "gauth = GoogleAuth()\n",
        "gauth.credentials = GoogleCredentials.get_application_default()                       \n",
        "drive = GoogleDrive(gauth)"
      ],
      "execution_count": 0,
      "outputs": []
    },
    {
      "metadata": {
        "id": "BrJ3Jh31XMez",
        "colab_type": "code",
        "colab": {}
      },
      "cell_type": "code",
      "source": [
        "model.save('MNIST_3.h5')\n",
        "classifier_file = drive.CreateFile({'title' : 'MNIST_3.h5'})    \n",
        "classifier_file.SetContentFile('MNIST_3.h5')    \n",
        "classifier_file.Upload()"
      ],
      "execution_count": 0,
      "outputs": []
    }
  ]
}